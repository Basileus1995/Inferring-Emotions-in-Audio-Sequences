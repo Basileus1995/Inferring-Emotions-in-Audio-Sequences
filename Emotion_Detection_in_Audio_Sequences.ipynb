{
  "nbformat": 4,
  "nbformat_minor": 0,
  "metadata": {
    "colab": {
      "name": "Emotion Detection in Audio Sequences.ipynb",
      "provenance": [],
      "collapsed_sections": []
    },
    "kernelspec": {
      "name": "python3",
      "display_name": "Python 3"
    }
  },
  "cells": [
    {
      "cell_type": "code",
      "metadata": {
        "id": "TkRPoRYq5nww",
        "colab_type": "code",
        "outputId": "cf51d893-a02c-4221-c72d-05cd2b727d67",
        "colab": {
          "base_uri": "https://localhost:8080/",
          "height": 121
        }
      },
      "source": [
        "from google.colab import drive\n",
        "drive.mount('/content/drive')"
      ],
      "execution_count": 2,
      "outputs": [
        {
          "output_type": "stream",
          "text": [
            "Go to this URL in a browser: https://accounts.google.com/o/oauth2/auth?client_id=947318989803-6bn6qk8qdgf4n4g3pfee6491hc0brc4i.apps.googleusercontent.com&redirect_uri=urn%3aietf%3awg%3aoauth%3a2.0%3aoob&response_type=code&scope=email%20https%3a%2f%2fwww.googleapis.com%2fauth%2fdocs.test%20https%3a%2f%2fwww.googleapis.com%2fauth%2fdrive%20https%3a%2f%2fwww.googleapis.com%2fauth%2fdrive.photos.readonly%20https%3a%2f%2fwww.googleapis.com%2fauth%2fpeopleapi.readonly\n",
            "\n",
            "Enter your authorization code:\n",
            "··········\n",
            "Mounted at /content/drive\n"
          ],
          "name": "stdout"
        }
      ]
    },
    {
      "cell_type": "code",
      "metadata": {
        "id": "5HvdrcPz5sbF",
        "colab_type": "code",
        "outputId": "34b84357-086b-4a44-f90b-4f3b3b28fa69",
        "colab": {
          "base_uri": "https://localhost:8080/",
          "height": 202
        }
      },
      "source": [
        "!pip install librosa"
      ],
      "execution_count": 0,
      "outputs": [
        {
          "output_type": "stream",
          "text": [
            "Requirement already satisfied: librosa in /usr/local/lib/python3.6/dist-packages (0.6.3)\n",
            "Requirement already satisfied: scipy>=1.0.0 in /usr/local/lib/python3.6/dist-packages (from librosa) (1.3.3)\n",
            "Requirement already satisfied: scikit-learn!=0.19.0,>=0.14.0 in /usr/local/lib/python3.6/dist-packages (from librosa) (0.21.3)\n",
            "Requirement already satisfied: six>=1.3 in /usr/local/lib/python3.6/dist-packages (from librosa) (1.12.0)\n",
            "Requirement already satisfied: numba>=0.38.0 in /usr/local/lib/python3.6/dist-packages (from librosa) (0.40.1)\n",
            "Requirement already satisfied: joblib>=0.12 in /usr/local/lib/python3.6/dist-packages (from librosa) (0.14.1)\n",
            "Requirement already satisfied: decorator>=3.0.0 in /usr/local/lib/python3.6/dist-packages (from librosa) (4.4.1)\n",
            "Requirement already satisfied: audioread>=2.0.0 in /usr/local/lib/python3.6/dist-packages (from librosa) (2.1.8)\n",
            "Requirement already satisfied: resampy>=0.2.0 in /usr/local/lib/python3.6/dist-packages (from librosa) (0.2.2)\n",
            "Requirement already satisfied: numpy>=1.8.0 in /usr/local/lib/python3.6/dist-packages (from librosa) (1.17.4)\n",
            "Requirement already satisfied: llvmlite>=0.25.0dev0 in /usr/local/lib/python3.6/dist-packages (from numba>=0.38.0->librosa) (0.30.0)\n"
          ],
          "name": "stdout"
        }
      ]
    },
    {
      "cell_type": "markdown",
      "metadata": {
        "id": "hQy6QvUVLqqe",
        "colab_type": "text"
      },
      "source": [
        "#### **Understanding the data:**"
      ]
    },
    {
      "cell_type": "code",
      "metadata": {
        "id": "Bo2fiPaR54vS",
        "colab_type": "code",
        "colab": {}
      },
      "source": [
        "import librosa\n",
        "from librosa import display\n",
        "data, sampling_rate = librosa.load('/content/drive/My Drive/Emotion Detection/Audio_Files_Actors_01_24/Actor_02/03-02-01-01-01-01-02.wav')"
      ],
      "execution_count": 0,
      "outputs": []
    },
    {
      "cell_type": "code",
      "metadata": {
        "id": "vOt7tADoDI_A",
        "colab_type": "code",
        "outputId": "d242726a-061b-4938-fe64-8b1278285cd0",
        "colab": {
          "base_uri": "https://localhost:8080/",
          "height": 296
        }
      },
      "source": [
        "% pylab inline\n",
        "import os\n",
        "import pandas as pd\n",
        "import glob \n",
        "\n",
        "plt.figure(figsize=(12, 4))\n",
        "librosa.display.waveplot(data, sr=sampling_rate)\n",
        "plt.show()"
      ],
      "execution_count": 8,
      "outputs": [
        {
          "output_type": "stream",
          "text": [
            "Populating the interactive namespace from numpy and matplotlib\n"
          ],
          "name": "stdout"
        },
        {
          "output_type": "display_data",
          "data": {
            "image/png": "[encoded data removed]",
            "text/plain": [
              "<Figure size 864x288 with 1 Axes>"
            ]
          },
          "metadata": {
            "tags": []
          }
        }
      ]
    },
    {
      "cell_type": "markdown",
      "metadata": {
        "id": "9vOetgO3JDvi",
        "colab_type": "text"
      },
      "source": [
        "#### **1. Data Preprocessing:**"
      ]
    },
    {
      "cell_type": "code",
      "metadata": {
        "id": "9hsTfJJ5DOkt",
        "colab_type": "code",
        "outputId": "4df05108-5f06-423e-822b-ad6ca94ebce3",
        "colab": {
          "base_uri": "https://localhost:8080/",
          "height": 34
        }
      },
      "source": [
        "# import time\n",
        "\n",
        "# path = '/content/drive/My Drive/Emotion Detection/Audio_Files_Actors_01_24/'\n",
        "# lst = []\n",
        "\n",
        "# start_time = time.time()\n",
        "\n",
        "# for subdir, dirs, files in os.walk(path):\n",
        "#   for file in files:\n",
        "#       try:\n",
        "#         #Load librosa array, obtain mfcss, store the file and the mcss information in a new array\n",
        "#         X, sample_rate = librosa.load(os.path.join(subdir,file), res_type='kaiser_fast')\n",
        "#         mfccs = np.mean(librosa.feature.mfcc(y=X, sr=sample_rate, n_mfcc=40).T,axis=0) \n",
        "#         # The instruction below converts the labels (from 1 to 8) to a series from 0 to 7\n",
        "#         # This is because our predictor needs to start from 0 otherwise it will try to predict also 0.\n",
        "#         file = int(file[7:8]) - 1 \n",
        "#         arr = mfccs, file\n",
        "#         lst.append(arr)\n",
        "#       # If the file is not valid, skip it\n",
        "#       except ValueError:\n",
        "#         continue\n",
        "\n",
        "# print(\"--- Data loaded. Loading time: %s seconds ---\" % (time.time() - start_time))"
      ],
      "execution_count": 0,
      "outputs": [
        {
          "output_type": "stream",
          "text": [
            "--- Data loaded. Loading time: 769.2145068645477 seconds ---\n"
          ],
          "name": "stdout"
        }
      ]
    },
    {
      "cell_type": "code",
      "metadata": {
        "id": "L2DrDofE2fY0",
        "colab_type": "code",
        "colab": {}
      },
      "source": [
        "# # Creating data and labels .npy file as extracted from the list for future use\n",
        "# X, y = zip(*lst)\n",
        "# X = np.asarray(X)\n",
        "# y = np.asarray(y)\n",
        "# np.save('/content/drive/My Drive/Emotion Detection/X.npy',X)\n",
        "# np.save('/content/drive/My Drive/Emotion Detection/labels.npy',X)"
      ],
      "execution_count": 0,
      "outputs": []
    },
    {
      "cell_type": "code",
      "metadata": {
        "id": "dL0S7dmT2-LN",
        "colab_type": "code",
        "colab": {}
      },
      "source": [
        "# Loading available joblib files for X and y without needing to preprocess the data again\n",
        "import joblib\n",
        "X = joblib.load('/content/drive/My Drive/Emotion Detection/X.joblib')\n",
        "y = joblib.load('/content/drive/My Drive/Emotion Detection/y.joblib')"
      ],
      "execution_count": 0,
      "outputs": []
    },
    {
      "cell_type": "code",
      "metadata": {
        "id": "GsgY2X3i1pEN",
        "colab_type": "code",
        "colab": {
          "base_uri": "https://localhost:8080/",
          "height": 319
        },
        "outputId": "d372502d-5f1c-49e0-abc0-2ba5358d1bcc"
      },
      "source": [
        "plt.figure(figsize=(8,5))\n",
        "labels = list(set(y))\n",
        "counts = []\n",
        "for label in labels:\n",
        "    counts.append(np.count_nonzero(y == label))\n",
        "plt.pie(counts, labels=labels, autopct='%1.1f%%')\n",
        "plt.title(\"Initial Distribution of labels\")\n",
        "plt.show()"
      ],
      "execution_count": 10,
      "outputs": [
        {
          "output_type": "display_data",
          "data": {
            "image/png": "[encoded data removed]",
            "text/plain": [
              "<Figure size 576x360 with 1 Axes>"
            ]
          },
          "metadata": {
            "tags": []
          }
        }
      ]
    },
    {
      "cell_type": "markdown",
      "metadata": {
        "id": "noyxm6QD11bL",
        "colab_type": "text"
      },
      "source": [
        "The dataset is imbalanced w.r.t to the labels available. SMOTE is used in here to balance it."
      ]
    },
    {
      "cell_type": "code",
      "metadata": {
        "id": "secVTt4l1zkm",
        "colab_type": "code",
        "colab": {
          "base_uri": "https://localhost:8080/",
          "height": 373
        },
        "outputId": "8df18e5c-b46b-4881-87ea-4de69ce2ca8f"
      },
      "source": [
        "## Balancing the class labels\n",
        "from imblearn.over_sampling import SMOTE\n",
        "\n",
        "smt = SMOTE(random_state=42, k_neighbors=1)\n",
        "X, y = smt.fit_sample(X, y)\n",
        "\n",
        "plt.figure(figsize=(8,5))\n",
        "labels = list(set(y))\n",
        "counts = []\n",
        "for label in labels:\n",
        "    counts.append(np.count_nonzero(y == label))\n",
        "plt.pie(counts, labels=labels, autopct='%1.1f%%')\n",
        "plt.title(\"Balanced Distribution of labels\")\n",
        "plt.show()"
      ],
      "execution_count": 11,
      "outputs": [
        {
          "output_type": "stream",
          "text": [
            "/usr/local/lib/python3.6/dist-packages/sklearn/externals/six.py:31: DeprecationWarning: The module is deprecated in version 0.21 and will be removed in version 0.23 since we've dropped support for Python 2.7. Please rely on the official version of six (https://pypi.org/project/six/).\n",
            "  \"(https://pypi.org/project/six/).\", DeprecationWarning)\n"
          ],
          "name": "stderr"
        },
        {
          "output_type": "display_data",
          "data": {
            "image/png": "[encoded data removed]",
            "text/plain": [
              "<Figure size 576x360 with 1 Axes>"
            ]
          },
          "metadata": {
            "tags": []
          }
        }
      ]
    },
    {
      "cell_type": "markdown",
      "metadata": {
        "id": "Gu3DLflKI1UK",
        "colab_type": "text"
      },
      "source": [
        "#### **2. Using XGBoost classifier:**"
      ]
    },
    {
      "cell_type": "code",
      "metadata": {
        "id": "_TpMsWJv4K61",
        "colab_type": "code",
        "colab": {}
      },
      "source": [
        "from sklearn.metrics import accuracy_score,confusion_matrix, classification_report\n",
        "import xgboost as xgb\n",
        "from xgboost import XGBClassifier, DMatrix\n",
        "from sklearn.model_selection import train_test_split"
      ],
      "execution_count": 0,
      "outputs": []
    },
    {
      "cell_type": "code",
      "metadata": {
        "id": "X06yF0LFG6LI",
        "colab_type": "code",
        "colab": {}
      },
      "source": [
        "X_train, X_test, y_train, y_test = train_test_split(X, y, test_size=0.20, random_state=42)"
      ],
      "execution_count": 0,
      "outputs": []
    },
    {
      "cell_type": "code",
      "metadata": {
        "id": "aZwnLWcI_xGf",
        "colab_type": "code",
        "colab": {}
      },
      "source": [
        "# Converting the dataframe into XGBoost’s Dmatrix object\n",
        "dtrain = DMatrix(X_train, label=y_train)"
      ],
      "execution_count": 0,
      "outputs": []
    },
    {
      "cell_type": "code",
      "metadata": {
        "id": "Py2EzoI0BL3Z",
        "colab_type": "code",
        "colab": {}
      },
      "source": [
        "params = {'max_depth': 7,\n",
        "          'gamma': 0.01,\n",
        "          'n_estimators': 200,\n",
        "          'learning_rate':0.01,\n",
        "          'subsample': 0.8,\n",
        "          'eta': 0.1,\n",
        "          'eval_metric': 'rmse'}\n",
        "\n",
        "classifier = XGBClassifier(**params).fit(X_train, y_train)\n"
      ],
      "execution_count": 0,
      "outputs": []
    },
    {
      "cell_type": "code",
      "metadata": {
        "id": "kQru2pHPBVyz",
        "colab_type": "code",
        "outputId": "d57bb146-e227-400c-ddf6-5997c0d7b106",
        "colab": {
          "base_uri": "https://localhost:8080/",
          "height": 286
        }
      },
      "source": [
        "# predicting for test set\n",
        "y_preds = classifier.predict(X_test)\n",
        "print(classification_report(y_preds, y_test))\n",
        "# Attained prediction accuracy on the training set\n",
        "cm = confusion_matrix(y_preds, y_test)\n",
        "acc = cm.diagonal().sum()/cm.sum()\n",
        "print(\"By the confusion matrix, the accuracy of the XGB model is =\",acc)"
      ],
      "execution_count": 16,
      "outputs": [
        {
          "output_type": "stream",
          "text": [
            "              precision    recall  f1-score   support\n",
            "\n",
            "           0       0.97      0.94      0.96       161\n",
            "           1       0.94      0.93      0.93       148\n",
            "           2       0.79      0.96      0.87       125\n",
            "           3       0.77      0.93      0.84       153\n",
            "           4       0.92      0.97      0.94       146\n",
            "           5       0.80      0.91      0.85       125\n",
            "           6       1.00      0.75      0.86       194\n",
            "           7       0.97      0.82      0.89       182\n",
            "\n",
            "    accuracy                           0.89      1234\n",
            "   macro avg       0.90      0.90      0.89      1234\n",
            "weighted avg       0.91      0.89      0.89      1234\n",
            "\n",
            "By the confusion matrix, the accuracy of the XGB model is = 0.8922204213938412\n"
          ],
          "name": "stdout"
        }
      ]
    },
    {
      "cell_type": "markdown",
      "metadata": {
        "id": "tKBUbMMKZNaj",
        "colab_type": "text"
      },
      "source": [
        "#### **3. Using CNN:**"
      ]
    },
    {
      "cell_type": "markdown",
      "metadata": {
        "id": "CtZ1WBq0GZ0i",
        "colab_type": "text"
      },
      "source": [
        "\n",
        "\n",
        "---\n",
        "\n",
        "With a XGBoost algorithm, we were able to achieve a performance of > 86 % on the test set. We want to see if we can achieve a better performance with the convolutional networks. In time, we will try to train an ensemble of CNNs to increase the efficiency by decreasing the epochs for training.\n",
        "\n",
        "---\n",
        "\n"
      ]
    },
    {
      "cell_type": "code",
      "metadata": {
        "id": "Syk8tmXFZk2Q",
        "colab_type": "code",
        "colab": {
          "base_uri": "https://localhost:8080/",
          "height": 79
        },
        "outputId": "c63aff65-b416-40dd-ce37-a445824754a2"
      },
      "source": [
        "import keras\n",
        "import numpy as np\n",
        "import matplotlib.pyplot as plt\n",
        "import tensorflow as tf\n",
        "from keras.preprocessing import sequence\n",
        "from keras.models import Sequential\n",
        "from keras.layers import Dense, Embedding\n",
        "from keras.utils import to_categorical\n",
        "from keras.layers import Input, Flatten, Dropout, Activation\n",
        "from keras.layers import Conv1D, MaxPooling1D\n",
        "from keras.models import Model\n",
        "from keras.callbacks import ModelCheckpoint\n",
        "import numpy as np\n",
        "import warnings\n",
        "warnings.filterwarnings(\"ignore\")"
      ],
      "execution_count": 19,
      "outputs": [
        {
          "output_type": "stream",
          "text": [
            "Using TensorFlow backend.\n"
          ],
          "name": "stderr"
        },
        {
          "output_type": "display_data",
          "data": {
            "text/html": [
              "<p style=\"color: red;\">\n",
              "The default version of TensorFlow in Colab will soon switch to TensorFlow 2.x.<br>\n",
              "We recommend you <a href=\"https://www.tensorflow.org/guide/migrate\" target=\"_blank\">upgrade</a> now \n",
              "or ensure your notebook will continue to use TensorFlow 1.x via the <code>%tensorflow_version 1.x</code> magic:\n",
              "<a href=\"https://colab.research.google.com/notebooks/tensorflow_version.ipynb\" target=\"_blank\">more info</a>.</p>\n"
            ],
            "text/plain": [
              "<IPython.core.display.HTML object>"
            ]
          },
          "metadata": {
            "tags": []
          }
        }
      ]
    },
    {
      "cell_type": "code",
      "metadata": {
        "id": "Bs0hJu3AEB9G",
        "colab_type": "code",
        "colab": {}
      },
      "source": [
        "# Partition into train and test\n",
        "X_train, X_test, y_train, y_test = train_test_split(X, y, test_size=0.10, random_state=42)\n",
        "# Partition into train and validation\n",
        "X_train, X_eval, y_train, y_eval = train_test_split(X_train, y_train, test_size=0.20, random_state=42)"
      ],
      "execution_count": 0,
      "outputs": []
    },
    {
      "cell_type": "code",
      "metadata": {
        "id": "7ZcISdx2If7r",
        "colab_type": "code",
        "outputId": "13bf0cfd-b4b1-4e5c-e884-2097450f1383",
        "colab": {
          "base_uri": "https://localhost:8080/",
          "height": 34
        }
      },
      "source": [
        "X_train_cnn = np.expand_dims(X_train, axis=2)\n",
        "X_eval_cnn = np.expand_dims(X_eval, axis=2)\n",
        "X_test_cnn = np.expand_dims(X_test, axis=2)\n",
        "X_train_cnn.shape, X_eval_cnn.shape, X_test_cnn.shape"
      ],
      "execution_count": 0,
      "outputs": [
        {
          "output_type": "execute_result",
          "data": {
            "text/plain": [
              "((4440, 40, 1), (1111, 40, 1), (617, 40, 1))"
            ]
          },
          "metadata": {
            "tags": []
          },
          "execution_count": 29
        }
      ]
    },
    {
      "cell_type": "code",
      "metadata": {
        "id": "gUWh7cTXZToh",
        "colab_type": "code",
        "colab": {}
      },
      "source": [
        "def train_model(X_train,X_eval, y_train, y_eval,batch_size,initializer,lr = 1e-3,epochs=10):\n",
        "  model = Sequential()\n",
        "  model.add(Conv1D(128, 5,padding='same',\n",
        "                  input_shape=(40,1),kernel_initializer=intializer))\n",
        "  model.add(Activation('relu'))\n",
        "  model.add(Conv1D(128, 5,padding='same',kernel_initializer=intializer))\n",
        "  model.add(Activation('relu'))\n",
        "  model.add(Dropout(0.1))\n",
        "  model.add(MaxPooling1D(pool_size=(8)))\n",
        "  model.add(Conv1D(128, 5,padding='same',kernel_initializer=intializer))\n",
        "  model.add(Activation('relu'))\n",
        "  model.add(Conv1D(128, 5,padding='same',kernel_initializer=intializer))\n",
        "  model.add(Activation('relu'))\n",
        "  model.add(Conv1D(128, 5,padding='same',kernel_initializer=intializer))\n",
        "  model.add(Activation('relu'))\n",
        "  model.add(Dropout(0.2))\n",
        "  model.add(Conv1D(128, 5,padding='same',kernel_initializer=intializer))\n",
        "  model.add(Flatten())\n",
        "  model.add(Dense(8,kernel_initializer=intializer))\n",
        "  model.add(Activation('softmax'))\n",
        "  print(\"------------------MODEL SUMMARY------------------\")\n",
        "  model.summary()\n",
        "  print(\"------------------MODEL TRAINING------------------\")\n",
        "  opt = keras.optimizers.rmsprop(lr=lr,rho=0.9, epsilon=None, decay=0.0)\n",
        "  model.compile(loss='sparse_categorical_crossentropy',\n",
        "                optimizer=opt,\n",
        "                metrics=['accuracy'])\n",
        "  model_history=model.fit(X_train, y_train, batch_size=batch_size, epochs=epochs, validation_data=(X_eval,y_eval),verbose=True)\n",
        "\n",
        "  return model,model_history"
      ],
      "execution_count": 0,
      "outputs": []
    },
    {
      "cell_type": "code",
      "metadata": {
        "id": "tX3ATE16aZ0_",
        "colab_type": "code",
        "outputId": "b36597fd-9cf1-49b2-8087-faae32f21eac",
        "colab": {
          "base_uri": "https://localhost:8080/",
          "height": 178
        }
      },
      "source": [
        "intializer = keras.initializers.glorot_normal(seed=None)\n",
        "model, model_history = train_model(X_train_cnn, X_eval_cnn,y_train,y_eval,8,intializer,lr = 0.00005,epochs=100)"
      ],
      "execution_count": 18,
      "outputs": [
        {
          "output_type": "error",
          "ename": "NameError",
          "evalue": "ignored",
          "traceback": [
            "\u001b[0;31m---------------------------------------------------------------------------\u001b[0m",
            "\u001b[0;31mNameError\u001b[0m                                 Traceback (most recent call last)",
            "\u001b[0;32m<ipython-input-18-2ff451d26b83>\u001b[0m in \u001b[0;36m<module>\u001b[0;34m()\u001b[0m\n\u001b[0;32m----> 1\u001b[0;31m \u001b[0mintializer\u001b[0m \u001b[0;34m=\u001b[0m \u001b[0mkeras\u001b[0m\u001b[0;34m.\u001b[0m\u001b[0minitializers\u001b[0m\u001b[0;34m.\u001b[0m\u001b[0mglorot_normal\u001b[0m\u001b[0;34m(\u001b[0m\u001b[0mseed\u001b[0m\u001b[0;34m=\u001b[0m\u001b[0;32mNone\u001b[0m\u001b[0;34m)\u001b[0m\u001b[0;34m\u001b[0m\u001b[0;34m\u001b[0m\u001b[0m\n\u001b[0m\u001b[1;32m      2\u001b[0m \u001b[0mmodel\u001b[0m\u001b[0;34m,\u001b[0m \u001b[0mmodel_history\u001b[0m \u001b[0;34m=\u001b[0m \u001b[0mtrain_model\u001b[0m\u001b[0;34m(\u001b[0m\u001b[0mX_train_cnn\u001b[0m\u001b[0;34m,\u001b[0m \u001b[0mX_eval_cnn\u001b[0m\u001b[0;34m,\u001b[0m\u001b[0my_train\u001b[0m\u001b[0;34m,\u001b[0m\u001b[0my_eval\u001b[0m\u001b[0;34m,\u001b[0m\u001b[0;36m8\u001b[0m\u001b[0;34m,\u001b[0m\u001b[0mintializer\u001b[0m\u001b[0;34m,\u001b[0m\u001b[0mlr\u001b[0m \u001b[0;34m=\u001b[0m \u001b[0;36m0.00005\u001b[0m\u001b[0;34m,\u001b[0m\u001b[0mepochs\u001b[0m\u001b[0;34m=\u001b[0m\u001b[0;36m100\u001b[0m\u001b[0;34m)\u001b[0m\u001b[0;34m\u001b[0m\u001b[0;34m\u001b[0m\u001b[0m\n",
            "\u001b[0;31mNameError\u001b[0m: name 'keras' is not defined"
          ]
        }
      ]
    },
    {
      "cell_type": "markdown",
      "metadata": {
        "id": "jFRS7AYvds0T",
        "colab_type": "text"
      },
      "source": [
        "\n",
        "\n",
        "---\n",
        "\n",
        "\n",
        "The following plot(s) will assess the accuracy and loss for training and validation sets for more pictorial analysis of the learning phase. Following it would be a detailed analysis of the model's performance using 'classification_report' and 'confusion_matrix' which will allow us to observe other aspects of the model's effectivity.\n",
        "\n",
        "\n",
        "\n",
        "\n",
        "---\n",
        "\n"
      ]
    },
    {
      "cell_type": "code",
      "metadata": {
        "id": "iyLGrr_qbWvh",
        "colab_type": "code",
        "outputId": "4b524504-0719-4e45-f784-e7afbd2baf4d",
        "colab": {
          "base_uri": "https://localhost:8080/",
          "height": 295
        }
      },
      "source": [
        "plt.plot(model_history.history['acc'])\n",
        "plt.plot(model_history.history['val_acc'])\n",
        "plt.title('model accuracy')\n",
        "plt.ylabel('acc')\n",
        "plt.xlabel('epoch')\n",
        "plt.legend(['train', 'test'], loc='upper left')\n",
        "plt.show()"
      ],
      "execution_count": 0,
      "outputs": [
        {
          "output_type": "display_data",
          "data": {
            "image/png": "[encoded data removed]",
            "text/plain": [
              "<Figure size 432x288 with 1 Axes>"
            ]
          },
          "metadata": {
            "tags": []
          }
        }
      ]
    },
    {
      "cell_type": "code",
      "metadata": {
        "id": "EeVIeHf1doM8",
        "colab_type": "code",
        "outputId": "954ffee8-cd9e-4afc-ae94-914be25f05f0",
        "colab": {
          "base_uri": "https://localhost:8080/",
          "height": 295
        }
      },
      "source": [
        "plt.plot(model_history.history['loss'])\n",
        "plt.plot(model_history.history['val_loss'])\n",
        "plt.title('model loss')\n",
        "plt.ylabel('loss')\n",
        "plt.xlabel('epoch')\n",
        "plt.legend(['train', 'test'], loc='upper left')\n",
        "plt.show()"
      ],
      "execution_count": 0,
      "outputs": [
        {
          "output_type": "display_data",
          "data": {
            "image/png": "[encoded data removed]",
            "text/plain": [
              "<Figure size 432x288 with 1 Axes>"
            ]
          },
          "metadata": {
            "tags": []
          }
        }
      ]
    },
    {
      "cell_type": "code",
      "metadata": {
        "id": "QnyKXOg1fuI8",
        "colab_type": "code",
        "colab": {}
      },
      "source": [
        "predictions = model.predict_classes(X_test_cnn)"
      ],
      "execution_count": 0,
      "outputs": []
    },
    {
      "cell_type": "code",
      "metadata": {
        "id": "KsDj1jwvfzyK",
        "colab_type": "code",
        "outputId": "617eb3d4-23fb-42b6-9c1e-5b9cfd44bf0e",
        "colab": {
          "base_uri": "https://localhost:8080/",
          "height": 269
        }
      },
      "source": [
        "report = classification_report(y_test, predictions)\n",
        "print(report)"
      ],
      "execution_count": 0,
      "outputs": [
        {
          "output_type": "stream",
          "text": [
            "              precision    recall  f1-score   support\n",
            "\n",
            "           0       0.95      0.95      0.95        76\n",
            "           1       0.82      0.93      0.87        67\n",
            "           2       0.92      0.82      0.87        73\n",
            "           3       0.92      0.88      0.90        93\n",
            "           4       0.98      0.97      0.97        91\n",
            "           5       0.89      0.83      0.86        66\n",
            "           6       0.93      1.00      0.96        67\n",
            "           7       0.97      1.00      0.98        84\n",
            "\n",
            "    accuracy                           0.92       617\n",
            "   macro avg       0.92      0.92      0.92       617\n",
            "weighted avg       0.92      0.92      0.92       617\n",
            "\n"
          ],
          "name": "stdout"
        }
      ]
    },
    {
      "cell_type": "code",
      "metadata": {
        "id": "tD65W_O9f2aC",
        "colab_type": "code",
        "outputId": "056cfbff-ff7a-41e0-a9cd-50d0ddc5bfe9",
        "colab": {
          "base_uri": "https://localhost:8080/",
          "height": 151
        }
      },
      "source": [
        "matrix = confusion_matrix(y_test, predictions)\n",
        "print(matrix)"
      ],
      "execution_count": 0,
      "outputs": [
        {
          "output_type": "stream",
          "text": [
            "[[72  4  0  0  0  0  0  0]\n",
            " [ 2 62  3  0  0  0  0  0]\n",
            " [ 2  5 60  2  0  3  0  1]\n",
            " [ 0  3  2 82  0  4  1  1]\n",
            " [ 0  1  0  0 88  0  1  1]\n",
            " [ 0  1  0  5  2 55  3  0]\n",
            " [ 0  0  0  0  0  0 67  0]\n",
            " [ 0  0  0  0  0  0  0 84]]\n"
          ],
          "name": "stdout"
        }
      ]
    },
    {
      "cell_type": "code",
      "metadata": {
        "id": "G4OlWxEFf88T",
        "colab_type": "code",
        "outputId": "2d04f169-29e8-42ff-ea85-e87482b3e561",
        "colab": {
          "base_uri": "https://localhost:8080/",
          "height": 34
        }
      },
      "source": [
        "model_name = 'Emotion_Voice_Detection_Single_Model.h5'\n",
        "save_dir = '/content/drive/My Drive/Emotion Detection/'\n",
        "# Save model and weights\n",
        "if not os.path.isdir(save_dir):\n",
        "    os.makedirs(save_dir)\n",
        "model_path = os.path.join(save_dir, model_name)\n",
        "model.save(model_path)\n",
        "print('Saved trained model at %s ' % model_path)"
      ],
      "execution_count": 0,
      "outputs": [
        {
          "output_type": "stream",
          "text": [
            "Saved trained model at /content/drive/My Drive/Emotion Detection/Emotion_Voice_Detection_Single_Model_2_epoch_100.h5 \n"
          ],
          "name": "stdout"
        }
      ]
    },
    {
      "cell_type": "markdown",
      "metadata": {
        "id": "aufR66LBgN4u",
        "colab_type": "text"
      },
      "source": [
        "#### **4. Using a simple CNN Ensemble:**"
      ]
    },
    {
      "cell_type": "markdown",
      "metadata": {
        "id": "A7ODtmFgDWiG",
        "colab_type": "text"
      },
      "source": [
        "\n",
        "\n",
        "---\n",
        "\n",
        "\n",
        "With this we use the same model re-initialized in each iterations and then use the collected list of models (each with it's own performance characterstics) to predict the labels followed by ensemble voting. Found considerable improvement, accuracy shoots to > 90%.\n",
        "\n",
        "\n",
        "---\n",
        "\n"
      ]
    },
    {
      "cell_type": "code",
      "metadata": {
        "id": "53StyAnlE8Vm",
        "colab_type": "code",
        "colab": {}
      },
      "source": [
        "def train_model_ensemble(X_train,X_eval, y_train, y_eval,batch_size, intializer,lr = 1e-3,epochs=10):\n",
        "  model = Sequential()\n",
        "  model.add(Conv1D(128, 5,padding='same',\n",
        "                  input_shape=(40,1),kernel_initializer=intializer))\n",
        "  model.add(Activation('relu'))\n",
        "  model.add(Conv1D(128, 5,padding='same',kernel_initializer=intializer))\n",
        "  model.add(Activation('relu'))\n",
        "  model.add(Dropout(0.1))\n",
        "  model.add(MaxPooling1D(pool_size=(8)))\n",
        "  model.add(Conv1D(128, 5,padding='same',kernel_initializer=intializer))\n",
        "  model.add(Activation('relu'))\n",
        "  model.add(Conv1D(128, 5,padding='same',kernel_initializer=intializer))\n",
        "  model.add(Activation('relu'))\n",
        "  model.add(Conv1D(128, 5,padding='same',kernel_initializer=intializer))\n",
        "  model.add(Activation('relu'))\n",
        "  model.add(Dropout(0.2))\n",
        "  model.add(Conv1D(128, 5,padding='same',kernel_initializer=intializer))\n",
        "  model.add(Flatten())\n",
        "  model.add(Dense(8,kernel_initializer=intializer))\n",
        "  model.add(Activation('softmax'))\n",
        "  print(\"------------------MODEL TRAINING------------------\")\n",
        "  model.summary()\n",
        "  opt = keras.optimizers.rmsprop(lr=lr,rho=0.9, epsilon=None, decay=0.0)\n",
        "  model.compile(loss='sparse_categorical_crossentropy',\n",
        "                optimizer=opt,\n",
        "                metrics=['accuracy'])\n",
        "  model_history=model.fit(X_train, y_train, batch_size=batch_size, epochs=epochs, validation_data=(X_eval,y_eval),verbose=False)\n",
        "\n",
        "  return model,model_history"
      ],
      "execution_count": 0,
      "outputs": []
    },
    {
      "cell_type": "code",
      "metadata": {
        "id": "FWal6iqggNd8",
        "colab_type": "code",
        "outputId": "2464337c-457c-4d80-a41a-080e7d030da0",
        "colab": {
          "base_uri": "https://localhost:8080/",
          "height": 1000
        }
      },
      "source": [
        "# We're training the network 5 times but each time with a new intialization causing a new model to be trained at each turn.\n",
        "models = []\n",
        "history = []\n",
        "times = 6\n",
        "for i in range(times):\n",
        "  print(\"------------------MODEL [\",i+1,\"]------------------\")\n",
        "  intializer = keras.initializers.glorot_normal(seed=None)\n",
        "  model, model_history = train_model_ensemble(X_train_cnn, X_eval_cnn,y_train,y_eval,8,intializer,lr = 0.00005,epochs=100)\n",
        "  models.append(model)\n",
        "  # history.append(model_history)\n",
        "  model_name = 'Emotion_Voice_Detection_Model'+str(i+1)+'.h5'\n",
        "  model_path = os.path.join(save_dir, model_name)\n",
        "  model.save(model_path)"
      ],
      "execution_count": 0,
      "outputs": [
        {
          "output_type": "stream",
          "text": [
            "------------------MODEL [ 1 ]------------------\n",
            "------------------MODEL TRAINING------------------\n",
            "Model: \"sequential_4\"\n",
            "_________________________________________________________________\n",
            "Layer (type)                 Output Shape              Param #   \n",
            "=================================================================\n",
            "conv1d_19 (Conv1D)           (None, 40, 128)           768       \n",
            "_________________________________________________________________\n",
            "activation_19 (Activation)   (None, 40, 128)           0         \n",
            "_________________________________________________________________\n",
            "conv1d_20 (Conv1D)           (None, 40, 128)           82048     \n",
            "_________________________________________________________________\n",
            "activation_20 (Activation)   (None, 40, 128)           0         \n",
            "_________________________________________________________________\n",
            "dropout_7 (Dropout)          (None, 40, 128)           0         \n",
            "_________________________________________________________________\n",
            "max_pooling1d_4 (MaxPooling1 (None, 5, 128)            0         \n",
            "_________________________________________________________________\n",
            "conv1d_21 (Conv1D)           (None, 5, 128)            82048     \n",
            "_________________________________________________________________\n",
            "activation_21 (Activation)   (None, 5, 128)            0         \n",
            "_________________________________________________________________\n",
            "conv1d_22 (Conv1D)           (None, 5, 128)            82048     \n",
            "_________________________________________________________________\n",
            "activation_22 (Activation)   (None, 5, 128)            0         \n",
            "_________________________________________________________________\n",
            "conv1d_23 (Conv1D)           (None, 5, 128)            82048     \n",
            "_________________________________________________________________\n",
            "activation_23 (Activation)   (None, 5, 128)            0         \n",
            "_________________________________________________________________\n",
            "dropout_8 (Dropout)          (None, 5, 128)            0         \n",
            "_________________________________________________________________\n",
            "conv1d_24 (Conv1D)           (None, 5, 128)            82048     \n",
            "_________________________________________________________________\n",
            "flatten_4 (Flatten)          (None, 640)               0         \n",
            "_________________________________________________________________\n",
            "dense_4 (Dense)              (None, 8)                 5128      \n",
            "_________________________________________________________________\n",
            "activation_24 (Activation)   (None, 8)                 0         \n",
            "=================================================================\n",
            "Total params: 416,136\n",
            "Trainable params: 416,136\n",
            "Non-trainable params: 0\n",
            "_________________________________________________________________\n",
            "------------------MODEL [ 2 ]------------------\n",
            "------------------MODEL TRAINING------------------\n",
            "Model: \"sequential_5\"\n",
            "_________________________________________________________________\n",
            "Layer (type)                 Output Shape              Param #   \n",
            "=================================================================\n",
            "conv1d_25 (Conv1D)           (None, 40, 128)           768       \n",
            "_________________________________________________________________\n",
            "activation_25 (Activation)   (None, 40, 128)           0         \n",
            "_________________________________________________________________\n",
            "conv1d_26 (Conv1D)           (None, 40, 128)           82048     \n",
            "_________________________________________________________________\n",
            "activation_26 (Activation)   (None, 40, 128)           0         \n",
            "_________________________________________________________________\n",
            "dropout_9 (Dropout)          (None, 40, 128)           0         \n",
            "_________________________________________________________________\n",
            "max_pooling1d_5 (MaxPooling1 (None, 5, 128)            0         \n",
            "_________________________________________________________________\n",
            "conv1d_27 (Conv1D)           (None, 5, 128)            82048     \n",
            "_________________________________________________________________\n",
            "activation_27 (Activation)   (None, 5, 128)            0         \n",
            "_________________________________________________________________\n",
            "conv1d_28 (Conv1D)           (None, 5, 128)            82048     \n",
            "_________________________________________________________________\n",
            "activation_28 (Activation)   (None, 5, 128)            0         \n",
            "_________________________________________________________________\n",
            "conv1d_29 (Conv1D)           (None, 5, 128)            82048     \n",
            "_________________________________________________________________\n",
            "activation_29 (Activation)   (None, 5, 128)            0         \n",
            "_________________________________________________________________\n",
            "dropout_10 (Dropout)         (None, 5, 128)            0         \n",
            "_________________________________________________________________\n",
            "conv1d_30 (Conv1D)           (None, 5, 128)            82048     \n",
            "_________________________________________________________________\n",
            "flatten_5 (Flatten)          (None, 640)               0         \n",
            "_________________________________________________________________\n",
            "dense_5 (Dense)              (None, 8)                 5128      \n",
            "_________________________________________________________________\n",
            "activation_30 (Activation)   (None, 8)                 0         \n",
            "=================================================================\n",
            "Total params: 416,136\n",
            "Trainable params: 416,136\n",
            "Non-trainable params: 0\n",
            "_________________________________________________________________\n",
            "------------------MODEL [ 3 ]------------------\n",
            "------------------MODEL TRAINING------------------\n",
            "Model: \"sequential_6\"\n",
            "_________________________________________________________________\n",
            "Layer (type)                 Output Shape              Param #   \n",
            "=================================================================\n",
            "conv1d_31 (Conv1D)           (None, 40, 128)           768       \n",
            "_________________________________________________________________\n",
            "activation_31 (Activation)   (None, 40, 128)           0         \n",
            "_________________________________________________________________\n",
            "conv1d_32 (Conv1D)           (None, 40, 128)           82048     \n",
            "_________________________________________________________________\n",
            "activation_32 (Activation)   (None, 40, 128)           0         \n",
            "_________________________________________________________________\n",
            "dropout_11 (Dropout)         (None, 40, 128)           0         \n",
            "_________________________________________________________________\n",
            "max_pooling1d_6 (MaxPooling1 (None, 5, 128)            0         \n",
            "_________________________________________________________________\n",
            "conv1d_33 (Conv1D)           (None, 5, 128)            82048     \n",
            "_________________________________________________________________\n",
            "activation_33 (Activation)   (None, 5, 128)            0         \n",
            "_________________________________________________________________\n",
            "conv1d_34 (Conv1D)           (None, 5, 128)            82048     \n",
            "_________________________________________________________________\n",
            "activation_34 (Activation)   (None, 5, 128)            0         \n",
            "_________________________________________________________________\n",
            "conv1d_35 (Conv1D)           (None, 5, 128)            82048     \n",
            "_________________________________________________________________\n",
            "activation_35 (Activation)   (None, 5, 128)            0         \n",
            "_________________________________________________________________\n",
            "dropout_12 (Dropout)         (None, 5, 128)            0         \n",
            "_________________________________________________________________\n",
            "conv1d_36 (Conv1D)           (None, 5, 128)            82048     \n",
            "_________________________________________________________________\n",
            "flatten_6 (Flatten)          (None, 640)               0         \n",
            "_________________________________________________________________\n",
            "dense_6 (Dense)              (None, 8)                 5128      \n",
            "_________________________________________________________________\n",
            "activation_36 (Activation)   (None, 8)                 0         \n",
            "=================================================================\n",
            "Total params: 416,136\n",
            "Trainable params: 416,136\n",
            "Non-trainable params: 0\n",
            "_________________________________________________________________\n",
            "------------------MODEL [ 4 ]------------------\n",
            "------------------MODEL TRAINING------------------\n",
            "Model: \"sequential_7\"\n",
            "_________________________________________________________________\n",
            "Layer (type)                 Output Shape              Param #   \n",
            "=================================================================\n",
            "conv1d_37 (Conv1D)           (None, 40, 128)           768       \n",
            "_________________________________________________________________\n",
            "activation_37 (Activation)   (None, 40, 128)           0         \n",
            "_________________________________________________________________\n",
            "conv1d_38 (Conv1D)           (None, 40, 128)           82048     \n",
            "_________________________________________________________________\n",
            "activation_38 (Activation)   (None, 40, 128)           0         \n",
            "_________________________________________________________________\n",
            "dropout_13 (Dropout)         (None, 40, 128)           0         \n",
            "_________________________________________________________________\n",
            "max_pooling1d_7 (MaxPooling1 (None, 5, 128)            0         \n",
            "_________________________________________________________________\n",
            "conv1d_39 (Conv1D)           (None, 5, 128)            82048     \n",
            "_________________________________________________________________\n",
            "activation_39 (Activation)   (None, 5, 128)            0         \n",
            "_________________________________________________________________\n",
            "conv1d_40 (Conv1D)           (None, 5, 128)            82048     \n",
            "_________________________________________________________________\n",
            "activation_40 (Activation)   (None, 5, 128)            0         \n",
            "_________________________________________________________________\n",
            "conv1d_41 (Conv1D)           (None, 5, 128)            82048     \n",
            "_________________________________________________________________\n",
            "activation_41 (Activation)   (None, 5, 128)            0         \n",
            "_________________________________________________________________\n",
            "dropout_14 (Dropout)         (None, 5, 128)            0         \n",
            "_________________________________________________________________\n",
            "conv1d_42 (Conv1D)           (None, 5, 128)            82048     \n",
            "_________________________________________________________________\n",
            "flatten_7 (Flatten)          (None, 640)               0         \n",
            "_________________________________________________________________\n",
            "dense_7 (Dense)              (None, 8)                 5128      \n",
            "_________________________________________________________________\n",
            "activation_42 (Activation)   (None, 8)                 0         \n",
            "=================================================================\n",
            "Total params: 416,136\n",
            "Trainable params: 416,136\n",
            "Non-trainable params: 0\n",
            "_________________________________________________________________\n",
            "------------------MODEL [ 5 ]------------------\n",
            "------------------MODEL TRAINING------------------\n",
            "Model: \"sequential_8\"\n",
            "_________________________________________________________________\n",
            "Layer (type)                 Output Shape              Param #   \n",
            "=================================================================\n",
            "conv1d_43 (Conv1D)           (None, 40, 128)           768       \n",
            "_________________________________________________________________\n",
            "activation_43 (Activation)   (None, 40, 128)           0         \n",
            "_________________________________________________________________\n",
            "conv1d_44 (Conv1D)           (None, 40, 128)           82048     \n",
            "_________________________________________________________________\n",
            "activation_44 (Activation)   (None, 40, 128)           0         \n",
            "_________________________________________________________________\n",
            "dropout_15 (Dropout)         (None, 40, 128)           0         \n",
            "_________________________________________________________________\n",
            "max_pooling1d_8 (MaxPooling1 (None, 5, 128)            0         \n",
            "_________________________________________________________________\n",
            "conv1d_45 (Conv1D)           (None, 5, 128)            82048     \n",
            "_________________________________________________________________\n",
            "activation_45 (Activation)   (None, 5, 128)            0         \n",
            "_________________________________________________________________\n",
            "conv1d_46 (Conv1D)           (None, 5, 128)            82048     \n",
            "_________________________________________________________________\n",
            "activation_46 (Activation)   (None, 5, 128)            0         \n",
            "_________________________________________________________________\n",
            "conv1d_47 (Conv1D)           (None, 5, 128)            82048     \n",
            "_________________________________________________________________\n",
            "activation_47 (Activation)   (None, 5, 128)            0         \n",
            "_________________________________________________________________\n",
            "dropout_16 (Dropout)         (None, 5, 128)            0         \n",
            "_________________________________________________________________\n",
            "conv1d_48 (Conv1D)           (None, 5, 128)            82048     \n",
            "_________________________________________________________________\n",
            "flatten_8 (Flatten)          (None, 640)               0         \n",
            "_________________________________________________________________\n",
            "dense_8 (Dense)              (None, 8)                 5128      \n",
            "_________________________________________________________________\n",
            "activation_48 (Activation)   (None, 8)                 0         \n",
            "=================================================================\n",
            "Total params: 416,136\n",
            "Trainable params: 416,136\n",
            "Non-trainable params: 0\n",
            "_________________________________________________________________\n",
            "------------------MODEL [ 6 ]------------------\n",
            "------------------MODEL TRAINING------------------\n",
            "Model: \"sequential_9\"\n",
            "_________________________________________________________________\n",
            "Layer (type)                 Output Shape              Param #   \n",
            "=================================================================\n",
            "conv1d_49 (Conv1D)           (None, 40, 128)           768       \n",
            "_________________________________________________________________\n",
            "activation_49 (Activation)   (None, 40, 128)           0         \n",
            "_________________________________________________________________\n",
            "conv1d_50 (Conv1D)           (None, 40, 128)           82048     \n",
            "_________________________________________________________________\n",
            "activation_50 (Activation)   (None, 40, 128)           0         \n",
            "_________________________________________________________________\n",
            "dropout_17 (Dropout)         (None, 40, 128)           0         \n",
            "_________________________________________________________________\n",
            "max_pooling1d_9 (MaxPooling1 (None, 5, 128)            0         \n",
            "_________________________________________________________________\n",
            "conv1d_51 (Conv1D)           (None, 5, 128)            82048     \n",
            "_________________________________________________________________\n",
            "activation_51 (Activation)   (None, 5, 128)            0         \n",
            "_________________________________________________________________\n",
            "conv1d_52 (Conv1D)           (None, 5, 128)            82048     \n",
            "_________________________________________________________________\n",
            "activation_52 (Activation)   (None, 5, 128)            0         \n",
            "_________________________________________________________________\n",
            "conv1d_53 (Conv1D)           (None, 5, 128)            82048     \n",
            "_________________________________________________________________\n",
            "activation_53 (Activation)   (None, 5, 128)            0         \n",
            "_________________________________________________________________\n",
            "dropout_18 (Dropout)         (None, 5, 128)            0         \n",
            "_________________________________________________________________\n",
            "conv1d_54 (Conv1D)           (None, 5, 128)            82048     \n",
            "_________________________________________________________________\n",
            "flatten_9 (Flatten)          (None, 640)               0         \n",
            "_________________________________________________________________\n",
            "dense_9 (Dense)              (None, 8)                 5128      \n",
            "_________________________________________________________________\n",
            "activation_54 (Activation)   (None, 8)                 0         \n",
            "=================================================================\n",
            "Total params: 416,136\n",
            "Trainable params: 416,136\n",
            "Non-trainable params: 0\n",
            "_________________________________________________________________\n"
          ],
          "name": "stdout"
        }
      ]
    },
    {
      "cell_type": "code",
      "metadata": {
        "id": "Oy7zB0E_gI_e",
        "colab_type": "code",
        "colab": {}
      },
      "source": [
        "# Predict labels with models\n",
        "import scipy\n",
        "predictions = []\n",
        "for m in models:\n",
        "    predicts = np.argmax(m.predict(X_test_cnn),axis=1)\n",
        "    predictions.append(predicts)\n",
        "    \n",
        "# Ensemble with voting\n",
        "predictions = np.array(predictions)\n",
        "predictions = np.transpose(predictions, (1, 0))\n",
        "predictions = scipy.stats.mode(predictions, axis=1)[0]\n",
        "predictions = np.squeeze(predictions)"
      ],
      "execution_count": 0,
      "outputs": []
    },
    {
      "cell_type": "code",
      "metadata": {
        "id": "gM2lv7wS_YDh",
        "colab_type": "code",
        "outputId": "3737852a-08f2-4619-cb9f-45f9c538700b",
        "colab": {
          "base_uri": "https://localhost:8080/",
          "height": 269
        }
      },
      "source": [
        "report = classification_report(y_test, predictions)\n",
        "print(report)"
      ],
      "execution_count": 0,
      "outputs": [
        {
          "output_type": "stream",
          "text": [
            "              precision    recall  f1-score   support\n",
            "\n",
            "           0       0.97      0.99      0.98        76\n",
            "           1       0.91      0.96      0.93        67\n",
            "           2       0.94      0.88      0.91        73\n",
            "           3       0.92      0.91      0.92        93\n",
            "           4       1.00      0.99      0.99        91\n",
            "           5       0.90      0.91      0.90        66\n",
            "           6       0.99      1.00      0.99        67\n",
            "           7       0.99      1.00      0.99        84\n",
            "\n",
            "    accuracy                           0.95       617\n",
            "   macro avg       0.95      0.95      0.95       617\n",
            "weighted avg       0.95      0.95      0.95       617\n",
            "\n"
          ],
          "name": "stdout"
        }
      ]
    },
    {
      "cell_type": "code",
      "metadata": {
        "id": "auvCtciPC7ZM",
        "colab_type": "code",
        "outputId": "336429fa-2086-4c43-f793-c752a7298147",
        "colab": {
          "base_uri": "https://localhost:8080/",
          "height": 151
        }
      },
      "source": [
        "matrix = confusion_matrix(y_test, predictions)\n",
        "print(matrix)"
      ],
      "execution_count": 0,
      "outputs": [
        {
          "output_type": "stream",
          "text": [
            "[[75  1  0  0  0  0  0  0]\n",
            " [ 2 64  1  0  0  0  0  0]\n",
            " [ 0  2 64  2  0  5  0  0]\n",
            " [ 0  2  2 85  0  2  1  1]\n",
            " [ 0  1  0  0 90  0  0  0]\n",
            " [ 0  0  1  5  0 60  0  0]\n",
            " [ 0  0  0  0  0  0 67  0]\n",
            " [ 0  0  0  0  0  0  0 84]]\n"
          ],
          "name": "stdout"
        }
      ]
    },
    {
      "cell_type": "code",
      "metadata": {
        "id": "hoXMyO2ntFem",
        "colab_type": "code",
        "colab": {}
      },
      "source": [
        ""
      ],
      "execution_count": 0,
      "outputs": []
    }
  ]
}